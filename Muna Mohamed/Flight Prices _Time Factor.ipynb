{
 "cells": [
  {
   "cell_type": "markdown",
   "id": "4682bbca-454e-4e51-952a-9aaf4805e1d5",
   "metadata": {},
   "source": [
    "# Flight Prices Analysis (Apr–Oct 2022): An Exploratory Data Report"
   ]
  },
  {
   "cell_type": "markdown",
   "id": "b389a334-ee29-4839-ba65-4c0cce84da7b",
   "metadata": {},
   "source": [
    "##  Introduction\n",
    "\n",
    "his report presents an Exploratory Data Analysis (EDA) on a dataset of domestic flight prices in the United States collected between April and October 2022. The goal is to investigate how **flight prices are influenced by the day of the week** and **the time of day** ( morning, afternoon, evening, night).\n",
    "\n",
    ">  **Note**: This dataset shows **purchasable flights** , not actual booked flights. The data shows flights that were available for booking at a given time and price.\n",
    "\n",
    "The dataset source:  \n",
    "🔗 [Flight Prices Dataset - Kaggle](https://www.kaggle.com/datasets/dilwong/flightprices)\n",
    "\n",
    "### Key Questions:\n",
    "- Do flight prices vary depending on the **periods of the day** (morning, afternoon, evening, night)?\n",
    "- Do flight prices vary depending on the **day of the week**?\n",
    "- Are ticket prices affected by **seats remaining** or **number of flights offered** on a given day?\n",
    "\n",
    "Throughout this notebook, we will clean the data, explore variable distributions, visualize trends, and review findings that may assist travelers and airline analysts better understand pricing behaviors.\n"
   ]
  },
  {
   "cell_type": "markdown",
   "id": "8cfd0650-255f-4ae9-ab8d-27e66e817482",
   "metadata": {},
   "source": [
    "## Objectives\n",
    "\n",
    "This analysis aims to uncover patterns in flight pricing by examining the following:\n",
    "\n",
    "- How do ticket prices vary across different **days of the week**?\n",
    "- Are there specific **times of day** (morning, afternoon, evening, night) when ticket prices are higher or lower?\n",
    "- Is there any correlation between the **number of remaining seats** and the **ticket price**?\n",
    "- Does the **number of flights offered** per day influence the ticket price?\n",
    "\n",
    "The findings may assist travelers find ideal booking times and support better pricing strategies."
   ]
  },
  {
   "cell_type": "markdown",
   "id": "ef56e414-edfc-4770-ba52-017f7ae6cd4c",
   "metadata": {},
   "source": [
    "## Importing libraries for data analysis and visualization"
   ]
  },
  {
   "cell_type": "code",
   "execution_count": 2,
   "id": "ea599af6-a955-482b-a2e0-9429dc6d0c84",
   "metadata": {},
   "outputs": [],
   "source": [
    "import pandas as pd\n",
    "import numpy as np\n",
    "import matplotlib.pyplot as plt\n",
    "import seaborn as sns\n",
    "import datetime as dt"
   ]
  },
  {
   "cell_type": "markdown",
   "id": "acdfea7e-b80b-4377-9d7a-6603d451079b",
   "metadata": {},
   "source": [
    "## Load the dataset\n",
    "For performance reasons, only the **first 1,000,000 rows** were loaded and analyzed in this report using the `nrows` in pandas."
   ]
  },
  {
   "cell_type": "code",
   "execution_count": 3,
   "id": "ad2c9f63-737b-406f-8c54-a07e56a674bd",
   "metadata": {},
   "outputs": [
    {
     "data": {
      "text/html": [
       "<div>\n",
       "<style scoped>\n",
       "    .dataframe tbody tr th:only-of-type {\n",
       "        vertical-align: middle;\n",
       "    }\n",
       "\n",
       "    .dataframe tbody tr th {\n",
       "        vertical-align: top;\n",
       "    }\n",
       "\n",
       "    .dataframe thead th {\n",
       "        text-align: right;\n",
       "    }\n",
       "</style>\n",
       "<table border=\"1\" class=\"dataframe\">\n",
       "  <thead>\n",
       "    <tr style=\"text-align: right;\">\n",
       "      <th></th>\n",
       "      <th>legId</th>\n",
       "      <th>searchDate</th>\n",
       "      <th>flightDate</th>\n",
       "      <th>startingAirport</th>\n",
       "      <th>destinationAirport</th>\n",
       "      <th>fareBasisCode</th>\n",
       "      <th>travelDuration</th>\n",
       "      <th>elapsedDays</th>\n",
       "      <th>isBasicEconomy</th>\n",
       "      <th>isRefundable</th>\n",
       "      <th>...</th>\n",
       "      <th>segmentsArrivalTimeEpochSeconds</th>\n",
       "      <th>segmentsArrivalTimeRaw</th>\n",
       "      <th>segmentsArrivalAirportCode</th>\n",
       "      <th>segmentsDepartureAirportCode</th>\n",
       "      <th>segmentsAirlineName</th>\n",
       "      <th>segmentsAirlineCode</th>\n",
       "      <th>segmentsEquipmentDescription</th>\n",
       "      <th>segmentsDurationInSeconds</th>\n",
       "      <th>segmentsDistance</th>\n",
       "      <th>segmentsCabinCode</th>\n",
       "    </tr>\n",
       "  </thead>\n",
       "  <tbody>\n",
       "    <tr>\n",
       "      <th>0</th>\n",
       "      <td>9ca0e81111c683bec1012473feefd28f</td>\n",
       "      <td>2022-04-16</td>\n",
       "      <td>2022-04-17</td>\n",
       "      <td>ATL</td>\n",
       "      <td>BOS</td>\n",
       "      <td>LA0NX0MC</td>\n",
       "      <td>PT2H29M</td>\n",
       "      <td>0</td>\n",
       "      <td>False</td>\n",
       "      <td>False</td>\n",
       "      <td>...</td>\n",
       "      <td>1650223560</td>\n",
       "      <td>2022-04-17T15:26:00.000-04:00</td>\n",
       "      <td>BOS</td>\n",
       "      <td>ATL</td>\n",
       "      <td>Delta</td>\n",
       "      <td>DL</td>\n",
       "      <td>Airbus A321</td>\n",
       "      <td>8940</td>\n",
       "      <td>947</td>\n",
       "      <td>coach</td>\n",
       "    </tr>\n",
       "    <tr>\n",
       "      <th>1</th>\n",
       "      <td>98685953630e772a098941b71906592b</td>\n",
       "      <td>2022-04-16</td>\n",
       "      <td>2022-04-17</td>\n",
       "      <td>ATL</td>\n",
       "      <td>BOS</td>\n",
       "      <td>LA0NX0MC</td>\n",
       "      <td>PT2H30M</td>\n",
       "      <td>0</td>\n",
       "      <td>False</td>\n",
       "      <td>False</td>\n",
       "      <td>...</td>\n",
       "      <td>1650200400</td>\n",
       "      <td>2022-04-17T09:00:00.000-04:00</td>\n",
       "      <td>BOS</td>\n",
       "      <td>ATL</td>\n",
       "      <td>Delta</td>\n",
       "      <td>DL</td>\n",
       "      <td>Airbus A321</td>\n",
       "      <td>9000</td>\n",
       "      <td>947</td>\n",
       "      <td>coach</td>\n",
       "    </tr>\n",
       "    <tr>\n",
       "      <th>2</th>\n",
       "      <td>98d90cbc32bfbb05c2fc32897c7c1087</td>\n",
       "      <td>2022-04-16</td>\n",
       "      <td>2022-04-17</td>\n",
       "      <td>ATL</td>\n",
       "      <td>BOS</td>\n",
       "      <td>LA0NX0MC</td>\n",
       "      <td>PT2H30M</td>\n",
       "      <td>0</td>\n",
       "      <td>False</td>\n",
       "      <td>False</td>\n",
       "      <td>...</td>\n",
       "      <td>1650218700</td>\n",
       "      <td>2022-04-17T14:05:00.000-04:00</td>\n",
       "      <td>BOS</td>\n",
       "      <td>ATL</td>\n",
       "      <td>Delta</td>\n",
       "      <td>DL</td>\n",
       "      <td>Boeing 757-200</td>\n",
       "      <td>9000</td>\n",
       "      <td>947</td>\n",
       "      <td>coach</td>\n",
       "    </tr>\n",
       "    <tr>\n",
       "      <th>3</th>\n",
       "      <td>969a269d38eae583f455486fa90877b4</td>\n",
       "      <td>2022-04-16</td>\n",
       "      <td>2022-04-17</td>\n",
       "      <td>ATL</td>\n",
       "      <td>BOS</td>\n",
       "      <td>LA0NX0MC</td>\n",
       "      <td>PT2H32M</td>\n",
       "      <td>0</td>\n",
       "      <td>False</td>\n",
       "      <td>False</td>\n",
       "      <td>...</td>\n",
       "      <td>1650227460</td>\n",
       "      <td>2022-04-17T16:31:00.000-04:00</td>\n",
       "      <td>BOS</td>\n",
       "      <td>ATL</td>\n",
       "      <td>Delta</td>\n",
       "      <td>DL</td>\n",
       "      <td>Airbus A321</td>\n",
       "      <td>9120</td>\n",
       "      <td>947</td>\n",
       "      <td>coach</td>\n",
       "    </tr>\n",
       "    <tr>\n",
       "      <th>4</th>\n",
       "      <td>980370cf27c89b40d2833a1d5afc9751</td>\n",
       "      <td>2022-04-16</td>\n",
       "      <td>2022-04-17</td>\n",
       "      <td>ATL</td>\n",
       "      <td>BOS</td>\n",
       "      <td>LA0NX0MC</td>\n",
       "      <td>PT2H34M</td>\n",
       "      <td>0</td>\n",
       "      <td>False</td>\n",
       "      <td>False</td>\n",
       "      <td>...</td>\n",
       "      <td>1650213180</td>\n",
       "      <td>2022-04-17T12:33:00.000-04:00</td>\n",
       "      <td>BOS</td>\n",
       "      <td>ATL</td>\n",
       "      <td>Delta</td>\n",
       "      <td>DL</td>\n",
       "      <td>Airbus A321</td>\n",
       "      <td>9240</td>\n",
       "      <td>947</td>\n",
       "      <td>coach</td>\n",
       "    </tr>\n",
       "    <tr>\n",
       "      <th>...</th>\n",
       "      <td>...</td>\n",
       "      <td>...</td>\n",
       "      <td>...</td>\n",
       "      <td>...</td>\n",
       "      <td>...</td>\n",
       "      <td>...</td>\n",
       "      <td>...</td>\n",
       "      <td>...</td>\n",
       "      <td>...</td>\n",
       "      <td>...</td>\n",
       "      <td>...</td>\n",
       "      <td>...</td>\n",
       "      <td>...</td>\n",
       "      <td>...</td>\n",
       "      <td>...</td>\n",
       "      <td>...</td>\n",
       "      <td>...</td>\n",
       "      <td>...</td>\n",
       "      <td>...</td>\n",
       "      <td>...</td>\n",
       "      <td>...</td>\n",
       "    </tr>\n",
       "    <tr>\n",
       "      <th>999995</th>\n",
       "      <td>f6c207e75c1cc61bcda3636606a6118c</td>\n",
       "      <td>2022-04-18</td>\n",
       "      <td>2022-05-30</td>\n",
       "      <td>ORD</td>\n",
       "      <td>SFO</td>\n",
       "      <td>MAA0OKEY</td>\n",
       "      <td>PT4H32M</td>\n",
       "      <td>0</td>\n",
       "      <td>False</td>\n",
       "      <td>False</td>\n",
       "      <td>...</td>\n",
       "      <td>1653949020</td>\n",
       "      <td>2022-05-30T15:17:00.000-07:00</td>\n",
       "      <td>SFO</td>\n",
       "      <td>ORD</td>\n",
       "      <td>United</td>\n",
       "      <td>UA</td>\n",
       "      <td>Boeing 787-8</td>\n",
       "      <td>16320</td>\n",
       "      <td>1847</td>\n",
       "      <td>coach</td>\n",
       "    </tr>\n",
       "    <tr>\n",
       "      <th>999996</th>\n",
       "      <td>de6456e27327c6698afe5853739221d3</td>\n",
       "      <td>2022-04-18</td>\n",
       "      <td>2022-05-30</td>\n",
       "      <td>ORD</td>\n",
       "      <td>SFO</td>\n",
       "      <td>MAA0OKEY</td>\n",
       "      <td>PT4H46M</td>\n",
       "      <td>0</td>\n",
       "      <td>False</td>\n",
       "      <td>False</td>\n",
       "      <td>...</td>\n",
       "      <td>1653970260</td>\n",
       "      <td>2022-05-30T21:11:00.000-07:00</td>\n",
       "      <td>SFO</td>\n",
       "      <td>ORD</td>\n",
       "      <td>United</td>\n",
       "      <td>UA</td>\n",
       "      <td>Boeing 737-900</td>\n",
       "      <td>17160</td>\n",
       "      <td>1847</td>\n",
       "      <td>coach</td>\n",
       "    </tr>\n",
       "    <tr>\n",
       "      <th>999997</th>\n",
       "      <td>06478f81a4dbdc84faab635a6efbd8d8</td>\n",
       "      <td>2022-04-18</td>\n",
       "      <td>2022-05-30</td>\n",
       "      <td>ORD</td>\n",
       "      <td>SFO</td>\n",
       "      <td>BAA0AFEN</td>\n",
       "      <td>PT4H45M</td>\n",
       "      <td>0</td>\n",
       "      <td>False</td>\n",
       "      <td>False</td>\n",
       "      <td>...</td>\n",
       "      <td>1653955500</td>\n",
       "      <td>2022-05-30T17:05:00.000-07:00</td>\n",
       "      <td>SFO</td>\n",
       "      <td>ORD</td>\n",
       "      <td>United</td>\n",
       "      <td>UA</td>\n",
       "      <td>Boeing 737-900</td>\n",
       "      <td>17100</td>\n",
       "      <td>1847</td>\n",
       "      <td>premium coach</td>\n",
       "    </tr>\n",
       "    <tr>\n",
       "      <th>999998</th>\n",
       "      <td>a1d867a12c631f41562ec88e4fbe9f1c</td>\n",
       "      <td>2022-04-18</td>\n",
       "      <td>2022-05-30</td>\n",
       "      <td>ORD</td>\n",
       "      <td>SFO</td>\n",
       "      <td>YAA0AFEY</td>\n",
       "      <td>PT4H37M</td>\n",
       "      <td>0</td>\n",
       "      <td>False</td>\n",
       "      <td>False</td>\n",
       "      <td>...</td>\n",
       "      <td>1653929220</td>\n",
       "      <td>2022-05-30T09:47:00.000-07:00</td>\n",
       "      <td>SFO</td>\n",
       "      <td>ORD</td>\n",
       "      <td>United</td>\n",
       "      <td>UA</td>\n",
       "      <td>Boeing 737-900</td>\n",
       "      <td>16620</td>\n",
       "      <td>1847</td>\n",
       "      <td>coach</td>\n",
       "    </tr>\n",
       "    <tr>\n",
       "      <th>999999</th>\n",
       "      <td>b3972452c388f0f3222177e0fc084f47</td>\n",
       "      <td>2022-04-18</td>\n",
       "      <td>2022-05-30</td>\n",
       "      <td>ORD</td>\n",
       "      <td>SFO</td>\n",
       "      <td>YA2AA</td>\n",
       "      <td>PT6H23M</td>\n",
       "      <td>0</td>\n",
       "      <td>False</td>\n",
       "      <td>False</td>\n",
       "      <td>...</td>\n",
       "      <td>1653932760||1653940140</td>\n",
       "      <td>2022-05-30T10:46:00.000-07:00||2022-05-30T12:4...</td>\n",
       "      <td>SNA||SFO</td>\n",
       "      <td>ORD||SNA</td>\n",
       "      <td>Alaska Airlines||Alaska Airlines</td>\n",
       "      <td>AS||AS</td>\n",
       "      <td>Boeing 737 MAX 8||Embraer 175</td>\n",
       "      <td>15600||5040</td>\n",
       "      <td>1726||373</td>\n",
       "      <td>coach||coach</td>\n",
       "    </tr>\n",
       "  </tbody>\n",
       "</table>\n",
       "<p>1000000 rows × 27 columns</p>\n",
       "</div>"
      ],
      "text/plain": [
       "                                   legId  searchDate  flightDate  \\\n",
       "0       9ca0e81111c683bec1012473feefd28f  2022-04-16  2022-04-17   \n",
       "1       98685953630e772a098941b71906592b  2022-04-16  2022-04-17   \n",
       "2       98d90cbc32bfbb05c2fc32897c7c1087  2022-04-16  2022-04-17   \n",
       "3       969a269d38eae583f455486fa90877b4  2022-04-16  2022-04-17   \n",
       "4       980370cf27c89b40d2833a1d5afc9751  2022-04-16  2022-04-17   \n",
       "...                                  ...         ...         ...   \n",
       "999995  f6c207e75c1cc61bcda3636606a6118c  2022-04-18  2022-05-30   \n",
       "999996  de6456e27327c6698afe5853739221d3  2022-04-18  2022-05-30   \n",
       "999997  06478f81a4dbdc84faab635a6efbd8d8  2022-04-18  2022-05-30   \n",
       "999998  a1d867a12c631f41562ec88e4fbe9f1c  2022-04-18  2022-05-30   \n",
       "999999  b3972452c388f0f3222177e0fc084f47  2022-04-18  2022-05-30   \n",
       "\n",
       "       startingAirport destinationAirport fareBasisCode travelDuration  \\\n",
       "0                  ATL                BOS      LA0NX0MC        PT2H29M   \n",
       "1                  ATL                BOS      LA0NX0MC        PT2H30M   \n",
       "2                  ATL                BOS      LA0NX0MC        PT2H30M   \n",
       "3                  ATL                BOS      LA0NX0MC        PT2H32M   \n",
       "4                  ATL                BOS      LA0NX0MC        PT2H34M   \n",
       "...                ...                ...           ...            ...   \n",
       "999995             ORD                SFO      MAA0OKEY        PT4H32M   \n",
       "999996             ORD                SFO      MAA0OKEY        PT4H46M   \n",
       "999997             ORD                SFO      BAA0AFEN        PT4H45M   \n",
       "999998             ORD                SFO      YAA0AFEY        PT4H37M   \n",
       "999999             ORD                SFO         YA2AA        PT6H23M   \n",
       "\n",
       "        elapsedDays  isBasicEconomy  isRefundable  ...  \\\n",
       "0                 0           False         False  ...   \n",
       "1                 0           False         False  ...   \n",
       "2                 0           False         False  ...   \n",
       "3                 0           False         False  ...   \n",
       "4                 0           False         False  ...   \n",
       "...             ...             ...           ...  ...   \n",
       "999995            0           False         False  ...   \n",
       "999996            0           False         False  ...   \n",
       "999997            0           False         False  ...   \n",
       "999998            0           False         False  ...   \n",
       "999999            0           False         False  ...   \n",
       "\n",
       "        segmentsArrivalTimeEpochSeconds  \\\n",
       "0                            1650223560   \n",
       "1                            1650200400   \n",
       "2                            1650218700   \n",
       "3                            1650227460   \n",
       "4                            1650213180   \n",
       "...                                 ...   \n",
       "999995                       1653949020   \n",
       "999996                       1653970260   \n",
       "999997                       1653955500   \n",
       "999998                       1653929220   \n",
       "999999           1653932760||1653940140   \n",
       "\n",
       "                                   segmentsArrivalTimeRaw  \\\n",
       "0                           2022-04-17T15:26:00.000-04:00   \n",
       "1                           2022-04-17T09:00:00.000-04:00   \n",
       "2                           2022-04-17T14:05:00.000-04:00   \n",
       "3                           2022-04-17T16:31:00.000-04:00   \n",
       "4                           2022-04-17T12:33:00.000-04:00   \n",
       "...                                                   ...   \n",
       "999995                      2022-05-30T15:17:00.000-07:00   \n",
       "999996                      2022-05-30T21:11:00.000-07:00   \n",
       "999997                      2022-05-30T17:05:00.000-07:00   \n",
       "999998                      2022-05-30T09:47:00.000-07:00   \n",
       "999999  2022-05-30T10:46:00.000-07:00||2022-05-30T12:4...   \n",
       "\n",
       "        segmentsArrivalAirportCode  segmentsDepartureAirportCode  \\\n",
       "0                              BOS                           ATL   \n",
       "1                              BOS                           ATL   \n",
       "2                              BOS                           ATL   \n",
       "3                              BOS                           ATL   \n",
       "4                              BOS                           ATL   \n",
       "...                            ...                           ...   \n",
       "999995                         SFO                           ORD   \n",
       "999996                         SFO                           ORD   \n",
       "999997                         SFO                           ORD   \n",
       "999998                         SFO                           ORD   \n",
       "999999                    SNA||SFO                      ORD||SNA   \n",
       "\n",
       "                     segmentsAirlineName segmentsAirlineCode  \\\n",
       "0                                  Delta                  DL   \n",
       "1                                  Delta                  DL   \n",
       "2                                  Delta                  DL   \n",
       "3                                  Delta                  DL   \n",
       "4                                  Delta                  DL   \n",
       "...                                  ...                 ...   \n",
       "999995                            United                  UA   \n",
       "999996                            United                  UA   \n",
       "999997                            United                  UA   \n",
       "999998                            United                  UA   \n",
       "999999  Alaska Airlines||Alaska Airlines              AS||AS   \n",
       "\n",
       "         segmentsEquipmentDescription segmentsDurationInSeconds  \\\n",
       "0                         Airbus A321                      8940   \n",
       "1                         Airbus A321                      9000   \n",
       "2                      Boeing 757-200                      9000   \n",
       "3                         Airbus A321                      9120   \n",
       "4                         Airbus A321                      9240   \n",
       "...                               ...                       ...   \n",
       "999995                   Boeing 787-8                     16320   \n",
       "999996                 Boeing 737-900                     17160   \n",
       "999997                 Boeing 737-900                     17100   \n",
       "999998                 Boeing 737-900                     16620   \n",
       "999999  Boeing 737 MAX 8||Embraer 175               15600||5040   \n",
       "\n",
       "       segmentsDistance segmentsCabinCode  \n",
       "0                   947             coach  \n",
       "1                   947             coach  \n",
       "2                   947             coach  \n",
       "3                   947             coach  \n",
       "4                   947             coach  \n",
       "...                 ...               ...  \n",
       "999995             1847             coach  \n",
       "999996             1847             coach  \n",
       "999997             1847     premium coach  \n",
       "999998             1847             coach  \n",
       "999999        1726||373      coach||coach  \n",
       "\n",
       "[1000000 rows x 27 columns]"
      ]
     },
     "execution_count": 3,
     "metadata": {},
     "output_type": "execute_result"
    }
   ],
   "source": [
    "df = pd.read_csv(\"Flights.csv\", nrows=1000000)\n",
    "df"
   ]
  },
  {
   "cell_type": "markdown",
   "id": "0efcc8c2-9a69-4b73-9105-52c4b2318221",
   "metadata": {},
   "source": [
    "## Data Exploration"
   ]
  },
  {
   "cell_type": "markdown",
   "id": "87b928f3-1903-44f1-9170-c0517bc6eeed",
   "metadata": {},
   "source": [
    "### 1. Dataset Overview\n"
   ]
  },
  {
   "cell_type": "code",
   "execution_count": 106,
   "id": "7511ff5b-bea2-41d9-8a7a-14b382ecc215",
   "metadata": {},
   "outputs": [
    {
     "name": "stdout",
     "output_type": "stream",
     "text": [
      "<class 'pandas.core.frame.DataFrame'>\n",
      "RangeIndex: 1000000 entries, 0 to 999999\n",
      "Data columns (total 29 columns):\n",
      " #   Column                             Non-Null Count    Dtype              \n",
      "---  ------                             --------------    -----              \n",
      " 0   legId                              1000000 non-null  object             \n",
      " 1   searchDate                         1000000 non-null  object             \n",
      " 2   flight_date                        1000000 non-null  datetime64[ns, UTC]\n",
      " 3   startingAirport                    1000000 non-null  object             \n",
      " 4   destinationAirport                 1000000 non-null  object             \n",
      " 5   fareBasisCode                      1000000 non-null  object             \n",
      " 6   travelDuration                     1000000 non-null  object             \n",
      " 7   elapsedDays                        1000000 non-null  int64              \n",
      " 8   isBasicEconomy                     1000000 non-null  bool               \n",
      " 9   isRefundable                       1000000 non-null  bool               \n",
      " 10  isNonStop                          1000000 non-null  bool               \n",
      " 11  baseFare                           1000000 non-null  float64            \n",
      " 12  price                              1000000 non-null  float64            \n",
      " 13  seats_remaining                    1000000 non-null  int64              \n",
      " 14  totalTravelDistance                938140 non-null   float64            \n",
      " 15  segmentsDepartureTimeEpochSeconds  1000000 non-null  object             \n",
      " 16  departure_time                     1000000 non-null  object             \n",
      " 17  segmentsArrivalTimeEpochSeconds    1000000 non-null  object             \n",
      " 18  segmentsArrivalTimeRaw             1000000 non-null  object             \n",
      " 19  segmentsArrivalAirportCode         1000000 non-null  object             \n",
      " 20  segmentsDepartureAirportCode       1000000 non-null  object             \n",
      " 21  segmentsAirlineName                1000000 non-null  object             \n",
      " 22  segmentsAirlineCode                1000000 non-null  object             \n",
      " 23  segmentsEquipmentDescription       981246 non-null   object             \n",
      " 24  segmentsDurationInSeconds          1000000 non-null  object             \n",
      " 25  segmentsDistance                   992276 non-null   object             \n",
      " 26  segmentsCabinCode                  1000000 non-null  object             \n",
      " 27  departure_period                   1000000 non-null  object             \n",
      " 28  flight_day_name                    1000000 non-null  object             \n",
      "dtypes: bool(3), datetime64[ns, UTC](1), float64(3), int64(2), object(20)\n",
      "memory usage: 201.2+ MB\n"
     ]
    }
   ],
   "source": [
    "df.info()"
   ]
  },
  {
   "cell_type": "markdown",
   "id": "0ef56626-52da-4525-a21f-e52919dec345",
   "metadata": {},
   "source": [
    "### 2. View Sample Rows"
   ]
  },
  {
   "cell_type": "code",
   "execution_count": 12,
   "id": "3ce62c32-7e46-49b3-ae81-2735a686711c",
   "metadata": {},
   "outputs": [
    {
     "data": {
      "text/html": [
       "<div>\n",
       "<style scoped>\n",
       "    .dataframe tbody tr th:only-of-type {\n",
       "        vertical-align: middle;\n",
       "    }\n",
       "\n",
       "    .dataframe tbody tr th {\n",
       "        vertical-align: top;\n",
       "    }\n",
       "\n",
       "    .dataframe thead th {\n",
       "        text-align: right;\n",
       "    }\n",
       "</style>\n",
       "<table border=\"1\" class=\"dataframe\">\n",
       "  <thead>\n",
       "    <tr style=\"text-align: right;\">\n",
       "      <th></th>\n",
       "      <th>legId</th>\n",
       "      <th>searchDate</th>\n",
       "      <th>flightDate</th>\n",
       "      <th>startingAirport</th>\n",
       "      <th>destinationAirport</th>\n",
       "      <th>fareBasisCode</th>\n",
       "      <th>travelDuration</th>\n",
       "      <th>elapsedDays</th>\n",
       "      <th>isBasicEconomy</th>\n",
       "      <th>isRefundable</th>\n",
       "      <th>...</th>\n",
       "      <th>segmentsArrivalTimeEpochSeconds</th>\n",
       "      <th>segmentsArrivalTimeRaw</th>\n",
       "      <th>segmentsArrivalAirportCode</th>\n",
       "      <th>segmentsDepartureAirportCode</th>\n",
       "      <th>segmentsAirlineName</th>\n",
       "      <th>segmentsAirlineCode</th>\n",
       "      <th>segmentsEquipmentDescription</th>\n",
       "      <th>segmentsDurationInSeconds</th>\n",
       "      <th>segmentsDistance</th>\n",
       "      <th>segmentsCabinCode</th>\n",
       "    </tr>\n",
       "  </thead>\n",
       "  <tbody>\n",
       "    <tr>\n",
       "      <th>0</th>\n",
       "      <td>9ca0e81111c683bec1012473feefd28f</td>\n",
       "      <td>2022-04-16</td>\n",
       "      <td>2022-04-17</td>\n",
       "      <td>ATL</td>\n",
       "      <td>BOS</td>\n",
       "      <td>LA0NX0MC</td>\n",
       "      <td>PT2H29M</td>\n",
       "      <td>0</td>\n",
       "      <td>False</td>\n",
       "      <td>False</td>\n",
       "      <td>...</td>\n",
       "      <td>1650223560</td>\n",
       "      <td>2022-04-17T15:26:00.000-04:00</td>\n",
       "      <td>BOS</td>\n",
       "      <td>ATL</td>\n",
       "      <td>Delta</td>\n",
       "      <td>DL</td>\n",
       "      <td>Airbus A321</td>\n",
       "      <td>8940</td>\n",
       "      <td>947</td>\n",
       "      <td>coach</td>\n",
       "    </tr>\n",
       "    <tr>\n",
       "      <th>1</th>\n",
       "      <td>98685953630e772a098941b71906592b</td>\n",
       "      <td>2022-04-16</td>\n",
       "      <td>2022-04-17</td>\n",
       "      <td>ATL</td>\n",
       "      <td>BOS</td>\n",
       "      <td>LA0NX0MC</td>\n",
       "      <td>PT2H30M</td>\n",
       "      <td>0</td>\n",
       "      <td>False</td>\n",
       "      <td>False</td>\n",
       "      <td>...</td>\n",
       "      <td>1650200400</td>\n",
       "      <td>2022-04-17T09:00:00.000-04:00</td>\n",
       "      <td>BOS</td>\n",
       "      <td>ATL</td>\n",
       "      <td>Delta</td>\n",
       "      <td>DL</td>\n",
       "      <td>Airbus A321</td>\n",
       "      <td>9000</td>\n",
       "      <td>947</td>\n",
       "      <td>coach</td>\n",
       "    </tr>\n",
       "    <tr>\n",
       "      <th>2</th>\n",
       "      <td>98d90cbc32bfbb05c2fc32897c7c1087</td>\n",
       "      <td>2022-04-16</td>\n",
       "      <td>2022-04-17</td>\n",
       "      <td>ATL</td>\n",
       "      <td>BOS</td>\n",
       "      <td>LA0NX0MC</td>\n",
       "      <td>PT2H30M</td>\n",
       "      <td>0</td>\n",
       "      <td>False</td>\n",
       "      <td>False</td>\n",
       "      <td>...</td>\n",
       "      <td>1650218700</td>\n",
       "      <td>2022-04-17T14:05:00.000-04:00</td>\n",
       "      <td>BOS</td>\n",
       "      <td>ATL</td>\n",
       "      <td>Delta</td>\n",
       "      <td>DL</td>\n",
       "      <td>Boeing 757-200</td>\n",
       "      <td>9000</td>\n",
       "      <td>947</td>\n",
       "      <td>coach</td>\n",
       "    </tr>\n",
       "    <tr>\n",
       "      <th>3</th>\n",
       "      <td>969a269d38eae583f455486fa90877b4</td>\n",
       "      <td>2022-04-16</td>\n",
       "      <td>2022-04-17</td>\n",
       "      <td>ATL</td>\n",
       "      <td>BOS</td>\n",
       "      <td>LA0NX0MC</td>\n",
       "      <td>PT2H32M</td>\n",
       "      <td>0</td>\n",
       "      <td>False</td>\n",
       "      <td>False</td>\n",
       "      <td>...</td>\n",
       "      <td>1650227460</td>\n",
       "      <td>2022-04-17T16:31:00.000-04:00</td>\n",
       "      <td>BOS</td>\n",
       "      <td>ATL</td>\n",
       "      <td>Delta</td>\n",
       "      <td>DL</td>\n",
       "      <td>Airbus A321</td>\n",
       "      <td>9120</td>\n",
       "      <td>947</td>\n",
       "      <td>coach</td>\n",
       "    </tr>\n",
       "    <tr>\n",
       "      <th>4</th>\n",
       "      <td>980370cf27c89b40d2833a1d5afc9751</td>\n",
       "      <td>2022-04-16</td>\n",
       "      <td>2022-04-17</td>\n",
       "      <td>ATL</td>\n",
       "      <td>BOS</td>\n",
       "      <td>LA0NX0MC</td>\n",
       "      <td>PT2H34M</td>\n",
       "      <td>0</td>\n",
       "      <td>False</td>\n",
       "      <td>False</td>\n",
       "      <td>...</td>\n",
       "      <td>1650213180</td>\n",
       "      <td>2022-04-17T12:33:00.000-04:00</td>\n",
       "      <td>BOS</td>\n",
       "      <td>ATL</td>\n",
       "      <td>Delta</td>\n",
       "      <td>DL</td>\n",
       "      <td>Airbus A321</td>\n",
       "      <td>9240</td>\n",
       "      <td>947</td>\n",
       "      <td>coach</td>\n",
       "    </tr>\n",
       "  </tbody>\n",
       "</table>\n",
       "<p>5 rows × 27 columns</p>\n",
       "</div>"
      ],
      "text/plain": [
       "                              legId  searchDate  flightDate startingAirport  \\\n",
       "0  9ca0e81111c683bec1012473feefd28f  2022-04-16  2022-04-17             ATL   \n",
       "1  98685953630e772a098941b71906592b  2022-04-16  2022-04-17             ATL   \n",
       "2  98d90cbc32bfbb05c2fc32897c7c1087  2022-04-16  2022-04-17             ATL   \n",
       "3  969a269d38eae583f455486fa90877b4  2022-04-16  2022-04-17             ATL   \n",
       "4  980370cf27c89b40d2833a1d5afc9751  2022-04-16  2022-04-17             ATL   \n",
       "\n",
       "  destinationAirport fareBasisCode travelDuration  elapsedDays  \\\n",
       "0                BOS      LA0NX0MC        PT2H29M            0   \n",
       "1                BOS      LA0NX0MC        PT2H30M            0   \n",
       "2                BOS      LA0NX0MC        PT2H30M            0   \n",
       "3                BOS      LA0NX0MC        PT2H32M            0   \n",
       "4                BOS      LA0NX0MC        PT2H34M            0   \n",
       "\n",
       "   isBasicEconomy  isRefundable  ...  segmentsArrivalTimeEpochSeconds  \\\n",
       "0           False         False  ...                       1650223560   \n",
       "1           False         False  ...                       1650200400   \n",
       "2           False         False  ...                       1650218700   \n",
       "3           False         False  ...                       1650227460   \n",
       "4           False         False  ...                       1650213180   \n",
       "\n",
       "          segmentsArrivalTimeRaw  segmentsArrivalAirportCode  \\\n",
       "0  2022-04-17T15:26:00.000-04:00                         BOS   \n",
       "1  2022-04-17T09:00:00.000-04:00                         BOS   \n",
       "2  2022-04-17T14:05:00.000-04:00                         BOS   \n",
       "3  2022-04-17T16:31:00.000-04:00                         BOS   \n",
       "4  2022-04-17T12:33:00.000-04:00                         BOS   \n",
       "\n",
       "   segmentsDepartureAirportCode  segmentsAirlineName segmentsAirlineCode  \\\n",
       "0                           ATL                Delta                  DL   \n",
       "1                           ATL                Delta                  DL   \n",
       "2                           ATL                Delta                  DL   \n",
       "3                           ATL                Delta                  DL   \n",
       "4                           ATL                Delta                  DL   \n",
       "\n",
       "  segmentsEquipmentDescription segmentsDurationInSeconds segmentsDistance  \\\n",
       "0                  Airbus A321                      8940              947   \n",
       "1                  Airbus A321                      9000              947   \n",
       "2               Boeing 757-200                      9000              947   \n",
       "3                  Airbus A321                      9120              947   \n",
       "4                  Airbus A321                      9240              947   \n",
       "\n",
       "  segmentsCabinCode  \n",
       "0             coach  \n",
       "1             coach  \n",
       "2             coach  \n",
       "3             coach  \n",
       "4             coach  \n",
       "\n",
       "[5 rows x 27 columns]"
      ]
     },
     "execution_count": 12,
     "metadata": {},
     "output_type": "execute_result"
    }
   ],
   "source": [
    "df.head()"
   ]
  },
  {
   "cell_type": "markdown",
   "id": "c624d66a-043f-4202-af9d-365b850d8204",
   "metadata": {},
   "source": [
    "### 3. View Columns Names"
   ]
  },
  {
   "cell_type": "code",
   "execution_count": 108,
   "id": "3b0408d6-c48d-4233-b409-68abeeb65b18",
   "metadata": {},
   "outputs": [
    {
     "data": {
      "text/plain": [
       "Index(['legId', 'searchDate', 'flight_date', 'startingAirport',\n",
       "       'destinationAirport', 'fareBasisCode', 'travelDuration', 'elapsedDays',\n",
       "       'isBasicEconomy', 'isRefundable', 'isNonStop', 'baseFare', 'price',\n",
       "       'seats_remaining', 'totalTravelDistance',\n",
       "       'segmentsDepartureTimeEpochSeconds', 'departure_time',\n",
       "       'segmentsArrivalTimeEpochSeconds', 'segmentsArrivalTimeRaw',\n",
       "       'segmentsArrivalAirportCode', 'segmentsDepartureAirportCode',\n",
       "       'segmentsAirlineName', 'segmentsAirlineCode',\n",
       "       'segmentsEquipmentDescription', 'segmentsDurationInSeconds',\n",
       "       'segmentsDistance', 'segmentsCabinCode', 'departure_period',\n",
       "       'flight_day_name'],\n",
       "      dtype='object')"
      ]
     },
     "execution_count": 108,
     "metadata": {},
     "output_type": "execute_result"
    }
   ],
   "source": [
    "df.columns"
   ]
  },
  {
   "cell_type": "markdown",
   "id": "7526b2bc-85e8-4e55-81a4-68568d3a0891",
   "metadata": {},
   "source": [
    "### 4. Check data type"
   ]
  },
  {
   "cell_type": "code",
   "execution_count": 13,
   "id": "1000d7a0-fc2f-4e68-a13a-a7bd9ab53f36",
   "metadata": {},
   "outputs": [
    {
     "name": "stdout",
     "output_type": "stream",
     "text": [
      "legId                                 object\n",
      "searchDate                            object\n",
      "flightDate                            object\n",
      "startingAirport                       object\n",
      "destinationAirport                    object\n",
      "fareBasisCode                         object\n",
      "travelDuration                        object\n",
      "elapsedDays                            int64\n",
      "isBasicEconomy                          bool\n",
      "isRefundable                            bool\n",
      "isNonStop                               bool\n",
      "baseFare                             float64\n",
      "totalFare                            float64\n",
      "seatsRemaining                         int64\n",
      "totalTravelDistance                  float64\n",
      "segmentsDepartureTimeEpochSeconds     object\n",
      "segmentsDepartureTimeRaw              object\n",
      "segmentsArrivalTimeEpochSeconds       object\n",
      "segmentsArrivalTimeRaw                object\n",
      "segmentsArrivalAirportCode            object\n",
      "segmentsDepartureAirportCode          object\n",
      "segmentsAirlineName                   object\n",
      "segmentsAirlineCode                   object\n",
      "segmentsEquipmentDescription          object\n",
      "segmentsDurationInSeconds             object\n",
      "segmentsDistance                      object\n",
      "segmentsCabinCode                     object\n",
      "dtype: object\n"
     ]
    }
   ],
   "source": [
    "print(df.dtypes)"
   ]
  },
  {
   "cell_type": "markdown",
   "id": "74ffab0d-70ab-4322-96dc-0604bee6b715",
   "metadata": {},
   "source": [
    "### 5. Check for Missing Values"
   ]
  },
  {
   "cell_type": "code",
   "execution_count": 107,
   "id": "0cadc7b5-3cea-491a-bf9e-844bab13063d",
   "metadata": {},
   "outputs": [
    {
     "data": {
      "text/plain": [
       "legId                                    0\n",
       "searchDate                               0\n",
       "flight_date                              0\n",
       "startingAirport                          0\n",
       "destinationAirport                       0\n",
       "fareBasisCode                            0\n",
       "travelDuration                           0\n",
       "elapsedDays                              0\n",
       "isBasicEconomy                           0\n",
       "isRefundable                             0\n",
       "isNonStop                                0\n",
       "baseFare                                 0\n",
       "price                                    0\n",
       "seats_remaining                          0\n",
       "totalTravelDistance                  61860\n",
       "segmentsDepartureTimeEpochSeconds        0\n",
       "departure_time                           0\n",
       "segmentsArrivalTimeEpochSeconds          0\n",
       "segmentsArrivalTimeRaw                   0\n",
       "segmentsArrivalAirportCode               0\n",
       "segmentsDepartureAirportCode             0\n",
       "segmentsAirlineName                      0\n",
       "segmentsAirlineCode                      0\n",
       "segmentsEquipmentDescription         18754\n",
       "segmentsDurationInSeconds                0\n",
       "segmentsDistance                      7724\n",
       "segmentsCabinCode                        0\n",
       "departure_period                         0\n",
       "flight_day_name                          0\n",
       "dtype: int64"
      ]
     },
     "execution_count": 107,
     "metadata": {},
     "output_type": "execute_result"
    }
   ],
   "source": [
    "df.isnull().sum()"
   ]
  },
  {
   "cell_type": "markdown",
   "id": "b5962d1c-0831-404b-850c-3d67a004efb9",
   "metadata": {},
   "source": [
    "## Data Cleaning"
   ]
  },
  {
   "cell_type": "markdown",
   "id": "0a5fd54a-31c2-4209-a5f0-bf10b7f4084e",
   "metadata": {},
   "source": [
    "### 1. Columns Renaming"
   ]
  },
  {
   "cell_type": "code",
   "execution_count": 4,
   "id": "61dff9cf-2099-4701-b399-80ad8435b00d",
   "metadata": {},
   "outputs": [],
   "source": [
    "df = df.rename(columns={\n",
    "    'flightDate': 'flight_date',\n",
    "    'segmentsDepartureTimeRaw': 'departure_time',\n",
    "    'totalFare': 'price',\n",
    "    'seatsRemaining': 'seats_remaining'})"
   ]
  },
  {
   "cell_type": "markdown",
   "id": "57622917-972d-4ca8-82b7-c8316180c563",
   "metadata": {},
   "source": [
    "### 2. Missing Values cleaning"
   ]
  },
  {
   "cell_type": "markdown",
   "id": "9babfeef-94f1-47cc-ab00-6c8061af2e62",
   "metadata": {},
   "source": [
    "The columns relevant to the analysis — legId, price, seats_remaining, departure_time and flight_date were found to be complete, with no missing data. Therefore, no rows were dropped at this stage.\n"
   ]
  },
  {
   "cell_type": "markdown",
   "id": "e451b3e3-c52f-4c75-868a-31a14e6d7549",
   "metadata": {},
   "source": [
    "### 3. Date and Time Formatting"
   ]
  },
  {
   "cell_type": "markdown",
   "id": "4602e2e3-6b02-40fe-b99c-1ae4dd639454",
   "metadata": {},
   "source": [
    "#### 3.1 Time formating"
   ]
  },
  {
   "cell_type": "markdown",
   "id": "3075c080-27f6-43cf-ab37-a318745af2f3",
   "metadata": {},
   "source": [
    " ##### 3.1.1  Previewing Departure Time Values"
   ]
  },
  {
   "cell_type": "code",
   "execution_count": 38,
   "id": "1ade02d8-a81f-4d7a-a8f9-bb252ee1e8c9",
   "metadata": {},
   "outputs": [
    {
     "name": "stdout",
     "output_type": "stream",
     "text": [
      "0                        2022-04-17T12:57:00.000-04:00\n",
      "1                        2022-04-17T06:30:00.000-04:00\n",
      "2                        2022-04-17T11:35:00.000-04:00\n",
      "3                        2022-04-17T13:59:00.000-04:00\n",
      "4                        2022-04-17T09:59:00.000-04:00\n",
      "5                        2022-04-17T10:45:00.000-04:00\n",
      "6    2022-04-17T08:20:00.000-04:00||2022-04-17T10:2...\n",
      "7    2022-04-17T08:20:00.000-04:00||2022-04-17T11:2...\n",
      "8    2022-04-17T07:00:00.000-04:00||2022-04-17T10:2...\n",
      "9    2022-04-17T07:00:00.000-04:00||2022-04-17T11:2...\n",
      "Name: departure_time, dtype: object\n"
     ]
    }
   ],
   "source": [
    "print(df['departure_time'].head(10)) "
   ]
  },
  {
   "cell_type": "markdown",
   "id": "d904f73a-06be-4320-9a28-03b827c144a4",
   "metadata": {},
   "source": [
    "It is observed that some date-time fields contain multiple timestamps separated by delimiters such as ||"
   ]
  },
  {
   "cell_type": "markdown",
   "id": "8894930d-4756-40c5-aefa-e1ce4895716f",
   "metadata": {},
   "source": [
    "##### 3.1.2 Cleaning Departure Time Format by extracting the First Departure Time Value"
   ]
  },
  {
   "cell_type": "code",
   "execution_count": 91,
   "id": "b9459e1f-bf31-456a-bcc7-5bab9f11ff0d",
   "metadata": {},
   "outputs": [],
   "source": [
    "df['departure_time'] = df['departure_time'].astype(str).str.split(r'\\|\\|').str[0]"
   ]
  },
  {
   "cell_type": "markdown",
   "id": "bd1245e7-210a-469a-81e4-02a690488e1f",
   "metadata": {},
   "source": [
    "##### 3.1.3 Checking unique departure time values to make sure values are all clean and consisten"
   ]
  },
  {
   "cell_type": "code",
   "execution_count": 92,
   "id": "cb6cd1a5-7f31-402f-b7ff-7dce525832fd",
   "metadata": {},
   "outputs": [
    {
     "name": "stdout",
     "output_type": "stream",
     "text": [
      "['2022-04-17 12:57:00-04:00' '2022-04-17 06:30:00-04:00'\n",
      " '2022-04-17 11:35:00-04:00' ... '2022-05-30 08:47:00-05:00'\n",
      " '2022-05-30 17:20:00-05:00' '2022-05-30 10:05:00-05:00']\n"
     ]
    }
   ],
   "source": [
    "print(df['departure_time'].unique())"
   ]
  },
  {
   "cell_type": "markdown",
   "id": "e11551e0-2690-4acf-a73a-0e2dc3ca70dc",
   "metadata": {},
   "source": [
    "##### 3.1.4 Verifying Removal of Separator"
   ]
  },
  {
   "cell_type": "code",
   "execution_count": 93,
   "id": "2b9dd09d-148e-4be3-a214-28babac7b393",
   "metadata": {},
   "outputs": [
    {
     "data": {
      "text/plain": [
       "np.int64(0)"
      ]
     },
     "execution_count": 93,
     "metadata": {},
     "output_type": "execute_result"
    }
   ],
   "source": [
    "df['departure_time'].str.contains(r'\\|\\|').sum()"
   ]
  },
  {
   "cell_type": "markdown",
   "id": "b19b41b7-89a8-490f-8df3-392122e36f1b",
   "metadata": {},
   "source": [
    "##### 3.1.5 Converting Departure Time to DateTime Format"
   ]
  },
  {
   "cell_type": "code",
   "execution_count": 18,
   "id": "e4b01e06-193d-456f-90a0-065bfec8c5aa",
   "metadata": {},
   "outputs": [
    {
     "name": "stderr",
     "output_type": "stream",
     "text": [
      "C:\\Users\\Lenovo\\AppData\\Local\\Temp\\ipykernel_1704\\999903754.py:1: FutureWarning: In a future version of pandas, parsing datetimes with mixed time zones will raise an error unless `utc=True`. Please specify `utc=True` to opt in to the new behaviour and silence this warning. To create a `Series` with mixed offsets and `object` dtype, please use `apply` and `datetime.datetime.strptime`\n",
      "  df['departure_time'] = pd.to_datetime(df['departure_time'], errors='coerce')\n"
     ]
    }
   ],
   "source": [
    "df['departure_time'] = pd.to_datetime(df['departure_time'], errors='coerce')"
   ]
  },
  {
   "cell_type": "markdown",
   "id": "ddb89162-cacc-4831-a05f-a9b06677d8eb",
   "metadata": {},
   "source": [
    "##### 3.1.6 Categorizing Departure Times into Periods of the Day / adding a new column called time_period"
   ]
  },
  {
   "cell_type": "code",
   "execution_count": 110,
   "id": "0c04df99-d8d8-44d8-815f-e82d2257892d",
   "metadata": {},
   "outputs": [],
   "source": [
    "def time_period(dt):\n",
    "    hour = dt.hour\n",
    "    if 5 <= hour < 12:\n",
    "        return 'Morning'\n",
    "    elif 12 <= hour < 17:\n",
    "        return 'Afternoon'\n",
    "    elif 17 <= hour < 21:\n",
    "        return 'Evening'\n",
    "    else:\n",
    "        return 'Night'\n",
    "\n",
    "df['departure_period'] = df['departure_time'].apply(time_period)"
   ]
  },
  {
   "cell_type": "markdown",
   "id": "302e49df-adc0-42fc-bd93-002802d0cdb8",
   "metadata": {},
   "source": [
    "##### 3.1.7  Randomly check if departure times have been correctly categorized"
   ]
  },
  {
   "cell_type": "code",
   "execution_count": 20,
   "id": "67123bb2-8624-4d6f-98e8-f1f3eeb0f73f",
   "metadata": {},
   "outputs": [
    {
     "name": "stdout",
     "output_type": "stream",
     "text": [
      "                   departure_time departure_period\n",
      "396779  2022-05-22 12:46:00-05:00        Afternoon\n",
      "485249  2022-06-01 08:38:00-07:00          Morning\n",
      "567827  2022-06-10 10:55:00-04:00          Morning\n",
      "973776  2022-05-27 08:00:00-04:00          Morning\n",
      "11496   2022-04-18 16:53:00-04:00        Afternoon\n",
      "323689  2022-05-13 13:35:00-04:00        Afternoon\n",
      "472520  2022-05-31 14:46:00-04:00        Afternoon\n",
      "433961  2022-05-26 19:32:00-04:00          Evening\n",
      "356050  2022-05-17 14:00:00-04:00        Afternoon\n",
      "262282  2022-05-07 07:11:00-05:00          Morning\n"
     ]
    }
   ],
   "source": [
    "print(df[['departure_time', 'departure_period']].sample(10))"
   ]
  },
  {
   "cell_type": "markdown",
   "id": "d02e521d-2d80-45d5-9ea9-352d45b48993",
   "metadata": {},
   "source": [
    "##### 3.1.8 checking if there is any missing data after the conversion\n"
   ]
  },
  {
   "cell_type": "code",
   "execution_count": 96,
   "id": "f540837e-7ac0-4d5e-901f-2bb733022a7d",
   "metadata": {},
   "outputs": [
    {
     "data": {
      "text/html": [
       "<div>\n",
       "<style scoped>\n",
       "    .dataframe tbody tr th:only-of-type {\n",
       "        vertical-align: middle;\n",
       "    }\n",
       "\n",
       "    .dataframe tbody tr th {\n",
       "        vertical-align: top;\n",
       "    }\n",
       "\n",
       "    .dataframe thead th {\n",
       "        text-align: right;\n",
       "    }\n",
       "</style>\n",
       "<table border=\"1\" class=\"dataframe\">\n",
       "  <thead>\n",
       "    <tr style=\"text-align: right;\">\n",
       "      <th></th>\n",
       "      <th>legId</th>\n",
       "      <th>searchDate</th>\n",
       "      <th>flight_date</th>\n",
       "      <th>startingAirport</th>\n",
       "      <th>destinationAirport</th>\n",
       "      <th>fareBasisCode</th>\n",
       "      <th>travelDuration</th>\n",
       "      <th>elapsedDays</th>\n",
       "      <th>isBasicEconomy</th>\n",
       "      <th>isRefundable</th>\n",
       "      <th>...</th>\n",
       "      <th>segmentsArrivalAirportCode</th>\n",
       "      <th>segmentsDepartureAirportCode</th>\n",
       "      <th>segmentsAirlineName</th>\n",
       "      <th>segmentsAirlineCode</th>\n",
       "      <th>segmentsEquipmentDescription</th>\n",
       "      <th>segmentsDurationInSeconds</th>\n",
       "      <th>segmentsDistance</th>\n",
       "      <th>segmentsCabinCode</th>\n",
       "      <th>departure_period</th>\n",
       "      <th>flight_day_name</th>\n",
       "    </tr>\n",
       "  </thead>\n",
       "  <tbody>\n",
       "  </tbody>\n",
       "</table>\n",
       "<p>0 rows × 29 columns</p>\n",
       "</div>"
      ],
      "text/plain": [
       "Empty DataFrame\n",
       "Columns: [legId, searchDate, flight_date, startingAirport, destinationAirport, fareBasisCode, travelDuration, elapsedDays, isBasicEconomy, isRefundable, isNonStop, baseFare, price, seats_remaining, totalTravelDistance, segmentsDepartureTimeEpochSeconds, departure_time, segmentsArrivalTimeEpochSeconds, segmentsArrivalTimeRaw, segmentsArrivalAirportCode, segmentsDepartureAirportCode, segmentsAirlineName, segmentsAirlineCode, segmentsEquipmentDescription, segmentsDurationInSeconds, segmentsDistance, segmentsCabinCode, departure_period, flight_day_name]\n",
       "Index: []\n",
       "\n",
       "[0 rows x 29 columns]"
      ]
     },
     "execution_count": 96,
     "metadata": {},
     "output_type": "execute_result"
    }
   ],
   "source": [
    "df[df['flight_date'].isna()]"
   ]
  },
  {
   "cell_type": "markdown",
   "id": "33c3df57-f5e4-42e7-84b8-d5cc20f07f31",
   "metadata": {},
   "source": [
    "#### 3.2 Date formatting"
   ]
  },
  {
   "cell_type": "markdown",
   "id": "9ce248a4-dbc4-469f-99d9-f21e7b146d86",
   "metadata": {},
   "source": [
    "##### 3.2.1 Convert the \"flight_date\" column to datetime type with error handling"
   ]
  },
  {
   "cell_type": "code",
   "execution_count": 113,
   "id": "2ac2a82f-b2f2-4827-9de5-13fa1520baa1",
   "metadata": {},
   "outputs": [],
   "source": [
    "df['flight_date'] = pd.to_datetime(df['flight_date'], errors='coerce', utc=True)"
   ]
  },
  {
   "cell_type": "markdown",
   "id": "22b87616-fc5c-4c6d-8809-accb8e613353",
   "metadata": {},
   "source": [
    "##### 3.2.2 Create a new column with the day name extracted from the flight date"
   ]
  },
  {
   "cell_type": "code",
   "execution_count": 114,
   "id": "fe9b0bae-b686-42c4-a991-d654acc0bda8",
   "metadata": {},
   "outputs": [],
   "source": [
    "df['flight_date'] = pd.to_datetime(df['flight_date'], errors='coerce', utc=True)"
   ]
  },
  {
   "cell_type": "markdown",
   "id": "e74c5d2d-4deb-4ffb-b73e-f658286f2bf5",
   "metadata": {},
   "source": [
    "##### 3.2.3. Print  unique values in the \"flight_day_name\" column to check if it works"
   ]
  },
  {
   "cell_type": "code",
   "execution_count": 115,
   "id": "41a43a1c-e91a-4eee-8c97-3dec81b36a37",
   "metadata": {},
   "outputs": [
    {
     "data": {
      "text/plain": [
       "array(['Sunday', 'Monday', 'Tuesday', 'Wednesday', 'Thursday', 'Friday',\n",
       "       'Saturday'], dtype=object)"
      ]
     },
     "execution_count": 115,
     "metadata": {},
     "output_type": "execute_result"
    }
   ],
   "source": [
    "df['flight_day_name'].unique()"
   ]
  },
  {
   "cell_type": "markdown",
   "id": "87b3fa75-097b-4a29-9f46-ddea50d30f28",
   "metadata": {},
   "source": [
    "## Data Analysis"
   ]
  },
  {
   "cell_type": "markdown",
   "id": "917bc76b-b23f-4692-88a0-bf027a835d73",
   "metadata": {},
   "source": [
    "### Analyze the relationship between flight departure time and flight price"
   ]
  },
  {
   "cell_type": "markdown",
   "id": "c9d7c806-1340-4fbc-b80f-a3dd48d2bfe6",
   "metadata": {},
   "source": [
    "#### 1. Statistical Summary of Ticket Prices by Departure Period"
   ]
  },
  {
   "cell_type": "code",
   "execution_count": 125,
   "id": "4b40cb8b-0b83-4d04-8287-239300448f15",
   "metadata": {},
   "outputs": [
    {
     "data": {
      "text/html": [
       "<div>\n",
       "<style scoped>\n",
       "    .dataframe tbody tr th:only-of-type {\n",
       "        vertical-align: middle;\n",
       "    }\n",
       "\n",
       "    .dataframe tbody tr th {\n",
       "        vertical-align: top;\n",
       "    }\n",
       "\n",
       "    .dataframe thead th {\n",
       "        text-align: right;\n",
       "    }\n",
       "</style>\n",
       "<table border=\"1\" class=\"dataframe\">\n",
       "  <thead>\n",
       "    <tr style=\"text-align: right;\">\n",
       "      <th></th>\n",
       "      <th>mean</th>\n",
       "      <th>median</th>\n",
       "      <th>std</th>\n",
       "      <th>count</th>\n",
       "    </tr>\n",
       "    <tr>\n",
       "      <th>departure_period</th>\n",
       "      <th></th>\n",
       "      <th></th>\n",
       "      <th></th>\n",
       "      <th></th>\n",
       "    </tr>\n",
       "  </thead>\n",
       "  <tbody>\n",
       "    <tr>\n",
       "      <th>Evening</th>\n",
       "      <td>329.094160</td>\n",
       "      <td>278.60</td>\n",
       "      <td>238.179274</td>\n",
       "      <td>149849</td>\n",
       "    </tr>\n",
       "    <tr>\n",
       "      <th>Afternoon</th>\n",
       "      <td>341.311304</td>\n",
       "      <td>300.71</td>\n",
       "      <td>232.290589</td>\n",
       "      <td>268228</td>\n",
       "    </tr>\n",
       "    <tr>\n",
       "      <th>Morning</th>\n",
       "      <td>354.899846</td>\n",
       "      <td>317.60</td>\n",
       "      <td>238.703284</td>\n",
       "      <td>499936</td>\n",
       "    </tr>\n",
       "    <tr>\n",
       "      <th>Night</th>\n",
       "      <td>379.435147</td>\n",
       "      <td>354.01</td>\n",
       "      <td>219.753332</td>\n",
       "      <td>81987</td>\n",
       "    </tr>\n",
       "  </tbody>\n",
       "</table>\n",
       "</div>"
      ],
      "text/plain": [
       "                        mean  median         std   count\n",
       "departure_period                                        \n",
       "Evening           329.094160  278.60  238.179274  149849\n",
       "Afternoon         341.311304  300.71  232.290589  268228\n",
       "Morning           354.899846  317.60  238.703284  499936\n",
       "Night             379.435147  354.01  219.753332   81987"
      ]
     },
     "execution_count": 125,
     "metadata": {},
     "output_type": "execute_result"
    }
   ],
   "source": [
    "df.groupby('departure_period')['price'].agg(['mean', 'median', 'std', 'count']).sort_values(by='mean')"
   ]
  },
  {
   "cell_type": "markdown",
   "id": "421e0358-fdbd-47c9-b78c-b22d04829c72",
   "metadata": {},
   "source": [
    "Flights were grouped based on departure periods (Morning, Afternoon, Evening, Night), and the mean and median prices for each period were calculated.\n",
    "The results indicate that Night flights tend to be the most expensive, while Evening flights are generally more affordable.\n",
    "The high standard deviation indicates that factors other than departure time sometimes cause large variations in flight prices."
   ]
  },
  {
   "cell_type": "markdown",
   "id": "97cbd7de-89e8-4cdf-b838-e2503bff2b78",
   "metadata": {},
   "source": [
    "#### 2. Flight Price Distribution by Departure Time"
   ]
  },
  {
   "cell_type": "code",
   "execution_count": 124,
   "id": "a5501276-3234-4661-90b1-8c71c4f5c296",
   "metadata": {},
   "outputs": [
    {
     "data": {
      "text/plain": [
       "Text(0, 0.5, 'Price')"
      ]
     },
     "execution_count": 124,
     "metadata": {},
     "output_type": "execute_result"
    },
    {
     "data": {
      "image/png": "[encoded data removed]",
      "text/plain": [
       "<Figure size 640x480 with 1 Axes>"
      ]
     },
     "metadata": {},
     "output_type": "display_data"
    }
   ],
   "source": [
    "sns.boxplot(x='departure_period', y='price', data=df, order=['Morning', 'Afternoon', 'Evening', 'Night'])\n",
    "plt.title('Flight Price Distribution by Departure Period')\n",
    "plt.xlabel('Departure Period')\n",
    "plt.ylabel('Price')"
   ]
  },
  {
   "cell_type": "markdown",
   "id": "9380f93a-7435-4d3c-9186-5c972c7720fc",
   "metadata": {},
   "source": [
    "From the plot, it is clear that **Night flights tend to have higher median prices** compared to other periods, while **Evening flights generally have lower prices**. The wide boxes and presence of outliers indicate notable price variability within each period.\n",
    "\n"
   ]
  },
  {
   "cell_type": "markdown",
   "id": "490b40bb-b4b1-424c-8852-1f7d457b894b",
   "metadata": {},
   "source": [
    "### Analyze the relationship between week days and flight price"
   ]
  },
  {
   "cell_type": "markdown",
   "id": "645f7887-11ba-4da4-ad35-bce6e46d684f",
   "metadata": {},
   "source": [
    "#### 1. Statistical Summary of Ticket Prices by week days"
   ]
  },
  {
   "cell_type": "code",
   "execution_count": 119,
   "id": "6562111c-2ad2-4451-9ae9-d649a7167ea2",
   "metadata": {},
   "outputs": [
    {
     "data": {
      "text/html": [
       "<div>\n",
       "<style scoped>\n",
       "    .dataframe tbody tr th:only-of-type {\n",
       "        vertical-align: middle;\n",
       "    }\n",
       "\n",
       "    .dataframe tbody tr th {\n",
       "        vertical-align: top;\n",
       "    }\n",
       "\n",
       "    .dataframe thead th {\n",
       "        text-align: right;\n",
       "    }\n",
       "</style>\n",
       "<table border=\"1\" class=\"dataframe\">\n",
       "  <thead>\n",
       "    <tr style=\"text-align: right;\">\n",
       "      <th></th>\n",
       "      <th>mean</th>\n",
       "      <th>median</th>\n",
       "      <th>std</th>\n",
       "      <th>count</th>\n",
       "    </tr>\n",
       "    <tr>\n",
       "      <th>flight_day_name</th>\n",
       "      <th></th>\n",
       "      <th></th>\n",
       "      <th></th>\n",
       "      <th></th>\n",
       "    </tr>\n",
       "  </thead>\n",
       "  <tbody>\n",
       "    <tr>\n",
       "      <th>Tuesday</th>\n",
       "      <td>294.170128</td>\n",
       "      <td>248.60</td>\n",
       "      <td>210.200385</td>\n",
       "      <td>172629</td>\n",
       "    </tr>\n",
       "    <tr>\n",
       "      <th>Wednesday</th>\n",
       "      <td>302.892275</td>\n",
       "      <td>262.61</td>\n",
       "      <td>209.608045</td>\n",
       "      <td>156176</td>\n",
       "    </tr>\n",
       "    <tr>\n",
       "      <th>Saturday</th>\n",
       "      <td>344.427355</td>\n",
       "      <td>297.10</td>\n",
       "      <td>245.863255</td>\n",
       "      <td>119889</td>\n",
       "    </tr>\n",
       "    <tr>\n",
       "      <th>Thursday</th>\n",
       "      <td>361.855584</td>\n",
       "      <td>326.60</td>\n",
       "      <td>231.119367</td>\n",
       "      <td>145187</td>\n",
       "    </tr>\n",
       "    <tr>\n",
       "      <th>Monday</th>\n",
       "      <td>368.626291</td>\n",
       "      <td>336.10</td>\n",
       "      <td>233.495843</td>\n",
       "      <td>149277</td>\n",
       "    </tr>\n",
       "    <tr>\n",
       "      <th>Friday</th>\n",
       "      <td>370.490983</td>\n",
       "      <td>335.58</td>\n",
       "      <td>230.896500</td>\n",
       "      <td>132860</td>\n",
       "    </tr>\n",
       "    <tr>\n",
       "      <th>Sunday</th>\n",
       "      <td>429.354281</td>\n",
       "      <td>378.60</td>\n",
       "      <td>270.589665</td>\n",
       "      <td>123982</td>\n",
       "    </tr>\n",
       "  </tbody>\n",
       "</table>\n",
       "</div>"
      ],
      "text/plain": [
       "                       mean  median         std   count\n",
       "flight_day_name                                        \n",
       "Tuesday          294.170128  248.60  210.200385  172629\n",
       "Wednesday        302.892275  262.61  209.608045  156176\n",
       "Saturday         344.427355  297.10  245.863255  119889\n",
       "Thursday         361.855584  326.60  231.119367  145187\n",
       "Monday           368.626291  336.10  233.495843  149277\n",
       "Friday           370.490983  335.58  230.896500  132860\n",
       "Sunday           429.354281  378.60  270.589665  123982"
      ]
     },
     "execution_count": 119,
     "metadata": {},
     "output_type": "execute_result"
    }
   ],
   "source": [
    "weekday_summary = df.groupby('flight_day_name')['price'].agg(['mean', 'median', 'std', 'count']).sort_values(by='mean')\n",
    "weekday_summary\n"
   ]
  },
  {
   "cell_type": "markdown",
   "id": "53ca0574-a5a1-44d3-b897-dc8e62be28df",
   "metadata": {},
   "source": [
    "Flights were grouped based on the day of the week, and the mean and median prices for each day were calculated.\n",
    "The results indicate that **Sunday flights tend to be the most expensive**, while **Tuesday and Wednesday flights are generally more affordable**.\n",
    "The high standard deviation indicates that factors other than the day of the week sometimes cause large variations in flight prices."
   ]
  },
  {
   "cell_type": "markdown",
   "id": "ed600cf8-18b6-4c51-9849-3e330eecd6d7",
   "metadata": {},
   "source": [
    "#### 2. Flight Price Distribution by week days"
   ]
  },
  {
   "cell_type": "code",
   "execution_count": 123,
   "id": "e2712306-a6e3-4cb8-a404-f71692e506da",
   "metadata": {},
   "outputs": [
    {
     "data": {
      "text/plain": [
       "Text(0, 0.5, 'Price')"
      ]
     },
     "execution_count": 123,
     "metadata": {},
     "output_type": "execute_result"
    },
    {
     "data": {
      "image/png": "[encoded data removed]",
      "text/plain": [
       "<Figure size 800x500 with 1 Axes>"
      ]
     },
     "metadata": {},
     "output_type": "display_data"
    }
   ],
   "source": [
    "plt.figure(figsize=(8,5))\n",
    "order_days = ['Monday', 'Tuesday', 'Wednesday', 'Thursday', 'Friday', 'Saturday', 'Sunday']\n",
    "sns.boxplot(x='flight_day_name', y='price', data=df, order=order_days)\n",
    "plt.title('Distribution of Flight Prices by Day of the Week')\n",
    "plt.xlabel('Day of the Week')\n",
    "plt.ylabel('Price')"
   ]
  },
  {
   "cell_type": "markdown",
   "id": "9aa96ca2-5385-4f00-98c5-a72190156362",
   "metadata": {},
   "source": [
    "From the plot, it is clear that **Sunday flights tend to have higher** median prices compared to other days, while **Tuesday and Wednesday flights generally have lower prices.** The wide boxes and presence of outliers indicate notable price variability within each day.\n",
    "\n"
   ]
  },
  {
   "cell_type": "markdown",
   "id": "38ab6553-8e31-4a6e-96bb-7ab91282baac",
   "metadata": {},
   "source": [
    "## Relationship Between Seats Remaining and Price"
   ]
  },
  {
   "cell_type": "markdown",
   "id": "a06b0cc5-576a-466b-a637-a00fc7ad382d",
   "metadata": {},
   "source": [
    "### 1. Correlation Analysis Between Seats Remaining and Ticket Price"
   ]
  },
  {
   "cell_type": "code",
   "execution_count": 141,
   "id": "4004cdd0-1592-4997-8e48-882747156768",
   "metadata": {},
   "outputs": [
    {
     "name": "stdout",
     "output_type": "stream",
     "text": [
      "Correlation: -0.008\n"
     ]
    }
   ],
   "source": [
    "correlation = df['seats_remaining'].corr(df['price'])\n",
    "rounded_corr = round(correlation, 3)\n",
    "print(\"Correlation:\", rounded_corr)"
   ]
  },
  {
   "cell_type": "code",
   "execution_count": 130,
   "id": "2050b7ca-6e10-4857-91fc-fed18d7e1ea3",
   "metadata": {},
   "outputs": [
    {
     "name": "stdout",
     "output_type": "stream",
     "text": [
      "Spearman correlation: -0.027\n"
     ]
    }
   ],
   "source": [
    "spearman_corr = df['seats_remaining'].corr(df['price'], method='spearman')\n",
    "print(\"Spearman correlation:\", round(spearman_corr, 3))"
   ]
  },
  {
   "cell_type": "markdown",
   "id": "42468c6c-356d-4c31-ba41-f913a7df6941",
   "metadata": {},
   "source": [
    " Two methods to check the relationship between seats remaining and ticket price: Pearson correlation to measure linear association, and Spearman correlation to detect any ranking relationship. Both showed **very weak** correlations, indicating no strong link between these variables.\"\n",
    "\n"
   ]
  },
  {
   "cell_type": "markdown",
   "id": "7763de4a-ce01-40ae-9726-b11e9fcfc525",
   "metadata": {},
   "source": [
    "### 2. Scatter Plot of Seats Remaining vs. Average Ticket Price"
   ]
  },
  {
   "cell_type": "code",
   "execution_count": 139,
   "id": "bfbe9f41-46bf-43e2-9956-babab5f0fe16",
   "metadata": {},
   "outputs": [
    {
     "name": "stdout",
     "output_type": "stream",
     "text": [
      "   seats_remaining       price\n",
      "0                0  231.491886\n",
      "1                1  397.097428\n",
      "2                2  387.331825\n",
      "3                3  386.835003\n",
      "4                4  354.140490\n"
     ]
    },
    {
     "data": {
      "text/plain": [
       "Text(0.5, 1.0, 'Average Flight Price by Seats Remaining')"
      ]
     },
     "execution_count": 139,
     "metadata": {},
     "output_type": "execute_result"
    },
    {
     "data": {
      "image/png": "[encoded data removed]",
      "text/plain": [
       "<Figure size 640x480 with 1 Axes>"
      ]
     },
     "metadata": {},
     "output_type": "display_data"
    }
   ],
   "source": [
    "summary = df.groupby('seats_remaining')['price'].mean().reset_index()\n",
    "print(summary.head())\n",
    "plt.scatter(summary['seats_remaining'], summary['price'])\n",
    "plt.xlabel('Seats Remaining')\n",
    "plt.ylabel('Average Flight Price')\n",
    "plt.title('Average Flight Price by Seats Remaining')\n"
   ]
  },
  {
   "cell_type": "markdown",
   "id": "f7d436d7-93a9-4818-afa8-5d53083c1f1d",
   "metadata": {},
   "source": [
    "The plot and correlation show that the number of seats left does not clearly affect the ticket price. The correlation is near zero, meaning almost **no relationship**. The plot also shows prices going up and down with no clear pattern. So, seats left don’t really tell us much about price. Other factors likely have more impact.\n",
    "\n",
    "\n",
    "\n",
    "\n",
    "\n",
    "\n",
    "\n",
    "\n"
   ]
  },
  {
   "cell_type": "markdown",
   "id": "0f91c986-f837-4f42-845d-7c7d6ae4eadd",
   "metadata": {},
   "source": [
    "## Relationship Between Number of purchable Flights and Ticket Price"
   ]
  },
  {
   "cell_type": "markdown",
   "id": "5578cc99-b5b4-41f1-84f4-fb6b079821f9",
   "metadata": {},
   "source": [
    "### 1. Grouping by Day to Count Unique Flights"
   ]
  },
  {
   "cell_type": "code",
   "execution_count": 143,
   "id": "0bbf79e0-4436-4390-90cc-0545cfdde1f6",
   "metadata": {},
   "outputs": [],
   "source": [
    "flights_per_day = df.groupby('flight_day_name')['legId'].nunique().reset_index(name='num_flights')"
   ]
  },
  {
   "cell_type": "markdown",
   "id": "9e27e0ad-3da6-4fe1-989c-b6a3a209304f",
   "metadata": {},
   "source": [
    "### 2. Calculating Average Ticket Price per Day"
   ]
  },
  {
   "cell_type": "code",
   "execution_count": 146,
   "id": "53832803-fce5-424d-a1d3-6e5aaf1cd316",
   "metadata": {},
   "outputs": [],
   "source": [
    "avg_price_per_day = df.groupby('flight_day_name')['price'].mean().reset_index(name='avg_price')"
   ]
  },
  {
   "cell_type": "markdown",
   "id": "5e816aab-e238-4618-947a-5c7b79234809",
   "metadata": {},
   "source": [
    "### 3. Merging Flights Count and Price Data"
   ]
  },
  {
   "cell_type": "code",
   "execution_count": 148,
   "id": "bb998e32-0853-49c9-9c4b-5f57fb67626a",
   "metadata": {},
   "outputs": [
    {
     "name": "stdout",
     "output_type": "stream",
     "text": [
      "  flight_day_name  num_flights   avg_price\n",
      "0          Friday        77198  370.490983\n",
      "1          Monday        86954  368.626291\n",
      "2        Saturday        70391  344.427355\n",
      "3          Sunday        77173  429.354281\n",
      "4        Thursday        88183  361.855584\n",
      "5         Tuesday        97306  294.170128\n",
      "6       Wednesday        92908  302.892275\n"
     ]
    }
   ],
   "source": [
    "flights_price = pd.merge(flights_per_day, avg_price_per_day, on='flight_day_name')\n",
    "print(flights_price)"
   ]
  },
  {
   "cell_type": "markdown",
   "id": "00d9f8cd-ce3e-4255-801e-0f936303c5b4",
   "metadata": {},
   "source": [
    "### 4.  Calculating Correlation"
   ]
  },
  {
   "cell_type": "code",
   "execution_count": 151,
   "id": "f5a4c2a8-1431-4108-bffe-2432506fd66b",
   "metadata": {},
   "outputs": [
    {
     "name": "stdout",
     "output_type": "stream",
     "text": [
      "Correlation : -0.631\n"
     ]
    }
   ],
   "source": [
    "correlation = flights_price['num_flights'].corr(flights_price['avg_price'])\n",
    "print(\"Correlation :\", round(correlation, 3))\n"
   ]
  },
  {
   "cell_type": "markdown",
   "id": "88dc23bf-2877-48d2-bf8c-10d9f8e74038",
   "metadata": {},
   "source": [
    "There is a **moderate negative correlation** between the number of flights and the average ticket price. This means that as the number of flights increases, ticket prices tend to go down. More available flights may lead to more competition, which can help lower prices."
   ]
  },
  {
   "cell_type": "markdown",
   "id": "1a9bc7e1-0c96-48f8-ba3c-3ba7e725a7ae",
   "metadata": {},
   "source": [
    "### 5.Visualizing the Relationship"
   ]
  },
  {
   "cell_type": "code",
   "execution_count": 157,
   "id": "a60b34b4-cf05-44bf-b678-abd5d4b6bb5e",
   "metadata": {},
   "outputs": [
    {
     "data": {
      "text/plain": [
       "Text(0, 0.5, 'Average Ticket Price')"
      ]
     },
     "execution_count": 157,
     "metadata": {},
     "output_type": "execute_result"
    },
    {
     "data": {
      "image/png": "[encoded data removed]",
      "text/plain": [
       "<Figure size 640x480 with 1 Axes>"
      ]
     },
     "metadata": {},
     "output_type": "display_data"
    }
   ],
   "source": [
    "sns.regplot(\n",
    "    data=summary_df,\n",
    "    x='flights_offered',\n",
    "    y='avg_price')\n",
    "\n",
    "plt.title('Relationship Between Number of Flights and Ticket Price')\n",
    "plt.xlabel('Number of Flights Offered')\n",
    "plt.ylabel('Average Ticket Price')\n"
   ]
  },
  {
   "cell_type": "markdown",
   "id": "e0b29aa4-bbfc-449c-bd45-7f219f61b7a0",
   "metadata": {},
   "source": [
    "The scatter plot shows a clear negative relationship between the number of flights offered and average ticket price. As more flights are available, ticket prices tend to be lower. This supports the correlation value of -0.63, which suggests a moderate relationship between the two variables.\n",
    "\n"
   ]
  },
  {
   "cell_type": "markdown",
   "id": "9000954b-9a00-4fbf-9d57-f0b22c54291d",
   "metadata": {},
   "source": [
    "# Conclusion\n",
    "## Findings\n",
    "- Flight prices vary among different times of the day (morning, afternoon, evening, night), showing that departure time affects pricing to a certain extent.\n",
    "- Prices also change significantly depending on the day of the week, reflecting different demand levels on weekdays versus weekends. Travel patterns show that Fridays and Sundays are among the busiest days for travel in the U.S., as they mark the start and end of weekends when many people take trips or return home. This explains part of the price fluctuations observed on these daysA, as airlines adjust ticket prices based on real-time changes in supply and demand — a practice known as dynamic pricing (Williams, 2020).\n",
    "- There is an average negative correlation between the number of flights offered and average ticket price, meaning more flights usually lead to lower prices.\n",
    "-  The effect of seats remaining on price is less clear.This may be due to the absence of actual bookings, and the reported number of seats remaining might not reflect the true availability but rather serve marketing purposes.\n",
    "\n",
    "## Outcomes\n",
    "- These findings show that both flight timing and availability influence ticket prices. This information can help travelers find better deals.\n",
    "- Airlines can use these insights to improve flight scheduling and pricing decisions, matching supply with customer demand more effectively.\n",
    "\n",
    "\n",
    "## Recommendations\n",
    "- Future data collection should include actual booking records, cover a full year to capture seasonal variations, and incorporate detailed booking information. This will improve the accuracy and depth of pricing analysis.\n",
    "= Travelers should consider both flight time and availability when booking to get the best prices.\n",
    "\n",
    "# Limitiations\n",
    "- Incomplete booking data: The dataset shows flights offered, not actual bookings, so it may not reflect true demand or sales.\n",
    "- Seats remaining accuracy: The \"seats_remaining\" field may not be fully accurate or updated in real time, affecting correlation with price.\n",
    "- The data covers only six months, which limits our ability to fully understand seasonal effects on flight prices."
   ]
  },
  {
   "cell_type": "markdown",
   "id": "20030c7b-0145-481b-83d4-fb3f993fdb6b",
   "metadata": {},
   "source": [
    "### References\n",
    "\n",
    "- Williams, K. R. (2020). *Dynamic Airline Pricing and Seat Availability*. Cowles Foundation Discussion Paper No. 2103R. Retrieved from [Wharton/SSRN](https://marketing.wharton.upenn.edu/wp-content/uploads/2018/09/10.04.2018-Williams-Kevin-PAPER.pdf?utm_source=chatgpt.com)"
   ]
  },
  {
   "cell_type": "code",
   "execution_count": null,
   "id": "3c735930-79b6-4fdb-bda7-0dee1ea861d2",
   "metadata": {},
   "outputs": [],
   "source": []
  }
 ],
 "metadata": {
  "kernelspec": {
   "display_name": "Python [conda env:base] *",
   "language": "python",
   "name": "conda-base-py"
  },
  "language_info": {
   "codemirror_mode": {
    "name": "ipython",
    "version": 3
   },
   "file_extension": ".py",
   "mimetype": "text/x-python",
   "name": "python",
   "nbconvert_exporter": "python",
   "pygments_lexer": "ipython3",
   "version": "3.13.5"
  }
 },
 "nbformat": 4,
 "nbformat_minor": 5
}
